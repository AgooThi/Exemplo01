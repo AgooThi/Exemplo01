{
  "nbformat": 4,
  "nbformat_minor": 0,
  "metadata": {
    "colab": {
      "name": "Untitled1.ipynb",
      "provenance": [],
      "authorship_tag": "ABX9TyPDuzL5r9iRTRT5U3MiNMn9",
      "include_colab_link": true
    },
    "kernelspec": {
      "name": "python3",
      "display_name": "Python 3"
    }
  },
  "cells": [
    {
      "cell_type": "markdown",
      "metadata": {
        "id": "view-in-github",
        "colab_type": "text"
      },
      "source": [
        "<a href=\"https://colab.research.google.com/github/AgooThi/Exemplo01/blob/master/Aula03.ipynb\" target=\"_parent\"><img src=\"https://colab.research.google.com/assets/colab-badge.svg\" alt=\"Open In Colab\"/></a>"
      ]
    },
    {
      "cell_type": "code",
      "metadata": {
        "id": "GhCuR1NtXqMq",
        "colab_type": "code",
        "colab": {}
      },
      "source": [
        "# Variáveis - são espaços na memória do computador\n",
        "# Que Armazenam dados para serem processados\n",
        "\n",
        "# Uma Variável tem um nome que a identifica no sistema\n",
        "# Uma variável pode ou não ter um valor\n",
        "# Uma Variável sempre terá um tipo de dados relacionadas a ela"
      ],
      "execution_count": null,
      "outputs": []
    },
    {
      "cell_type": "code",
      "metadata": {
        "id": "joKc02XLau4p",
        "colab_type": "code",
        "colab": {
          "base_uri": "https://localhost:8080/",
          "height": 34
        },
        "outputId": "6302f437-810c-41e5-8034-5ba7e27b220f"
      },
      "source": [
        "# Exemplo de declaração de variáveis\n",
        "x = 10\n",
        "print (x)"
      ],
      "execution_count": 1,
      "outputs": [
        {
          "output_type": "stream",
          "text": [
            "10\n"
          ],
          "name": "stdout"
        }
      ]
    },
    {
      "cell_type": "code",
      "metadata": {
        "id": "VStxZSVub-e0",
        "colab_type": "code",
        "colab": {
          "base_uri": "https://localhost:8080/",
          "height": 34
        },
        "outputId": "a4cedc6e-7779-4831-d1eb-c0d2176e192a"
      },
      "source": [
        "print (10) # Literal"
      ],
      "execution_count": 4,
      "outputs": [
        {
          "output_type": "stream",
          "text": [
            "10\n"
          ],
          "name": "stdout"
        }
      ]
    },
    {
      "cell_type": "code",
      "metadata": {
        "id": "ZEQSUtp2cnjm",
        "colab_type": "code",
        "colab": {
          "base_uri": "https://localhost:8080/",
          "height": 34
        },
        "outputId": "57d2562f-e362-4023-9b0c-1b823951a307"
      },
      "source": [
        "print (x+x)"
      ],
      "execution_count": 5,
      "outputs": [
        {
          "output_type": "stream",
          "text": [
            "20\n"
          ],
          "name": "stdout"
        }
      ]
    },
    {
      "cell_type": "code",
      "metadata": {
        "id": "k42_HOwBct7H",
        "colab_type": "code",
        "colab": {
          "base_uri": "https://localhost:8080/",
          "height": 34
        },
        "outputId": "b834a958-f6cc-4074-b10e-3b26041e5a17"
      },
      "source": [
        "print (x/x)"
      ],
      "execution_count": 6,
      "outputs": [
        {
          "output_type": "stream",
          "text": [
            "1.0\n"
          ],
          "name": "stdout"
        }
      ]
    },
    {
      "cell_type": "code",
      "metadata": {
        "id": "ytv-CEvicxhu",
        "colab_type": "code",
        "colab": {}
      },
      "source": [
        "# Float é um tio de dados da computação que representa os numéros reais\n",
        "# ou seja, com casas decimais"
      ],
      "execution_count": null,
      "outputs": []
    },
    {
      "cell_type": "code",
      "metadata": {
        "id": "QrcVrQ29djFs",
        "colab_type": "code",
        "colab": {
          "base_uri": "https://localhost:8080/",
          "height": 34
        },
        "outputId": "93136739-5735-4ac6-a67b-39633fa53017"
      },
      "source": [
        "# Descobrir tipos de dados\n",
        "x = 10\n",
        "y = 2.3\n",
        "print (x, y)"
      ],
      "execution_count": 7,
      "outputs": [
        {
          "output_type": "stream",
          "text": [
            "10 2.3\n"
          ],
          "name": "stdout"
        }
      ]
    },
    {
      "cell_type": "code",
      "metadata": {
        "id": "wF25Nz25d7XN",
        "colab_type": "code",
        "colab": {
          "base_uri": "https://localhost:8080/",
          "height": 51
        },
        "outputId": "a245ce34-b19a-4d11-9499-f59b3df11b97"
      },
      "source": [
        "print (x, '\\n', y)"
      ],
      "execution_count": 9,
      "outputs": [
        {
          "output_type": "stream",
          "text": [
            "10 \n",
            " 2.3\n"
          ],
          "name": "stdout"
        }
      ]
    },
    {
      "cell_type": "code",
      "metadata": {
        "id": "MRo4nORBeKsV",
        "colab_type": "code",
        "colab": {
          "base_uri": "https://localhost:8080/",
          "height": 34
        },
        "outputId": "4e1ddbf2-a812-45a2-91c4-4b282bdeefc1"
      },
      "source": [
        "# verificando o tipo de uma variável\n",
        "type (x)"
      ],
      "execution_count": 13,
      "outputs": [
        {
          "output_type": "execute_result",
          "data": {
            "text/plain": [
              "int"
            ]
          },
          "metadata": {
            "tags": []
          },
          "execution_count": 13
        }
      ]
    },
    {
      "cell_type": "code",
      "metadata": {
        "id": "3V8_pwiHeYvd",
        "colab_type": "code",
        "colab": {
          "base_uri": "https://localhost:8080/",
          "height": 34
        },
        "outputId": "d0a4e0bf-495b-4827-ee44-1e0dfa54aedd"
      },
      "source": [
        "type (y)"
      ],
      "execution_count": 12,
      "outputs": [
        {
          "output_type": "execute_result",
          "data": {
            "text/plain": [
              "float"
            ]
          },
          "metadata": {
            "tags": []
          },
          "execution_count": 12
        }
      ]
    },
    {
      "cell_type": "code",
      "metadata": {
        "id": "t-MddYX5efoJ",
        "colab_type": "code",
        "colab": {
          "base_uri": "https://localhost:8080/",
          "height": 34
        },
        "outputId": "a5d4829d-4512-4fa3-9ddf-6be0a993b9a7"
      },
      "source": [
        "# Texto (Strings)\n",
        "# Ex.: Agothi Silveira\n",
        "# Ex.: Thiago Silveira\n",
        "\n",
        "# Para que um valor sea considerado como uma string\n",
        "# Ele deve estar entre ASPAS\n",
        "print ('Thiago Siveira') # Literal"
      ],
      "execution_count": 15,
      "outputs": [
        {
          "output_type": "stream",
          "text": [
            "Thiago Siveira\n"
          ],
          "name": "stdout"
        }
      ]
    },
    {
      "cell_type": "code",
      "metadata": {
        "id": "XbzkdlkWgIYL",
        "colab_type": "code",
        "colab": {
          "base_uri": "https://localhost:8080/",
          "height": 34
        },
        "outputId": "e253c908-8368-4215-cd2b-36db43532483"
      },
      "source": [
        "nome = 'Agothi Silveira'\n",
        "print (nome + '\\t' + nome)\n",
        "# Quando estamos trabalhando com Strings, o sinal de \"+\"\n",
        "# significa uma concatenação, ou seja \"juntar\""
      ],
      "execution_count": 25,
      "outputs": [
        {
          "output_type": "stream",
          "text": [
            "Agothi Silveira\tAgothi Silveira\n"
          ],
          "name": "stdout"
        }
      ]
    },
    {
      "cell_type": "code",
      "metadata": {
        "id": "z4hOxqP6jE-B",
        "colab_type": "code",
        "colab": {
          "base_uri": "https://localhost:8080/",
          "height": 34
        },
        "outputId": "47a7cbc8-d9ae-4c74-9584-7608e29339eb"
      },
      "source": [
        "nome = 'Thiago Silveira'\n",
        "idade = 17\n",
        "complemento = 'anos'\n",
        "print (nome, 'tem', idade, complemento)"
      ],
      "execution_count": 29,
      "outputs": [
        {
          "output_type": "stream",
          "text": [
            "Thiago Silveira tem 17 anos\n"
          ],
          "name": "stdout"
        }
      ]
    },
    {
      "cell_type": "code",
      "metadata": {
        "id": "5U-ox1a-kVu9",
        "colab_type": "code",
        "colab": {
          "base_uri": "https://localhost:8080/",
          "height": 34
        },
        "outputId": "569155d4-0490-4c7a-a133-6c881d1ac407"
      },
      "source": [
        "# convertando um tipo de inteiro para String\n",
        "print (str(idade) + ' ' + complemento)"
      ],
      "execution_count": 33,
      "outputs": [
        {
          "output_type": "stream",
          "text": [
            "17 anos\n"
          ],
          "name": "stdout"
        }
      ]
    },
    {
      "cell_type": "code",
      "metadata": {
        "id": "ZhTekHvck8Im",
        "colab_type": "code",
        "colab": {
          "base_uri": "https://localhost:8080/",
          "height": 34
        },
        "outputId": "677cfd08-9ab2-40d6-e454-86465473f319"
      },
      "source": [
        "n1 = 10.2\n",
        "n2 = 8\n",
        "print (int(n1) + n2)"
      ],
      "execution_count": 34,
      "outputs": [
        {
          "output_type": "stream",
          "text": [
            "18\n"
          ],
          "name": "stdout"
        }
      ]
    },
    {
      "cell_type": "code",
      "metadata": {
        "id": "yqtufWf7lZ5L",
        "colab_type": "code",
        "colab": {
          "base_uri": "https://localhost:8080/",
          "height": 51
        },
        "outputId": "4a64e75d-62ad-49e3-a3aa-03817f7b12c0"
      },
      "source": [
        "# Vamos melhorar a nossa formatação de saída\n",
        "formato = '{0} \\n{1} {2}'\n",
        "print (formato.format(nome, idade, complemento))"
      ],
      "execution_count": 43,
      "outputs": [
        {
          "output_type": "stream",
          "text": [
            "Thiago Silveira \n",
            "17 anos\n"
          ],
          "name": "stdout"
        }
      ]
    },
    {
      "cell_type": "code",
      "metadata": {
        "id": "mM5Ne6vdpbF6",
        "colab_type": "code",
        "colab": {}
      },
      "source": [
        "# Adição +\n",
        "# Subtração -\n",
        "# Multiplicação *\n",
        "# Divisão /\n",
        "\n",
        "# Exponenciação ** (Potência)\n",
        "# Parte inteira //\n",
        "# Módulo %"
      ],
      "execution_count": null,
      "outputs": []
    },
    {
      "cell_type": "code",
      "metadata": {
        "id": "ebljQDhUqxts",
        "colab_type": "code",
        "colab": {
          "base_uri": "https://localhost:8080/",
          "height": 34
        },
        "outputId": "98ee1dc6-297c-4afa-ad9c-8531c45dba1d"
      },
      "source": [
        "n1 = 5\n",
        "n2 = 4\n",
        "\n",
        "# Potência\n",
        "print (n1**n2) # 5 elevado a 2"
      ],
      "execution_count": 56,
      "outputs": [
        {
          "output_type": "stream",
          "text": [
            "625\n"
          ],
          "name": "stdout"
        }
      ]
    },
    {
      "cell_type": "code",
      "metadata": {
        "id": "5ZgAh0cOrHFm",
        "colab_type": "code",
        "colab": {
          "base_uri": "https://localhost:8080/",
          "height": 51
        },
        "outputId": "af8654bd-3309-4f08-f93a-d389484b2843"
      },
      "source": [
        "# Parte inteira de um valor\n",
        "print (n1/n2)\n",
        "print (n1//n2)"
      ],
      "execution_count": 55,
      "outputs": [
        {
          "output_type": "stream",
          "text": [
            "1.25\n",
            "1\n"
          ],
          "name": "stdout"
        }
      ]
    },
    {
      "cell_type": "code",
      "metadata": {
        "id": "v9Im6IyRrkAm",
        "colab_type": "code",
        "colab": {
          "base_uri": "https://localhost:8080/",
          "height": 34
        },
        "outputId": "712fe582-f4d2-4d4a-981d-66390721974c"
      },
      "source": [
        "# Resto de uma divisão (Módulo)\n",
        "n1 = 5\n",
        "n2 = 2\n",
        "print (n1 % n2)"
      ],
      "execution_count": 58,
      "outputs": [
        {
          "output_type": "stream",
          "text": [
            "1\n"
          ],
          "name": "stdout"
        }
      ]
    },
    {
      "cell_type": "code",
      "metadata": {
        "id": "7r0F54ear5Or",
        "colab_type": "code",
        "colab": {
          "base_uri": "https://localhost:8080/",
          "height": 34
        },
        "outputId": "11160f0d-f64a-46c2-b496-5627d707453b"
      },
      "source": [
        "# Para que serve um módulo?\n",
        "print (6 % 2)"
      ],
      "execution_count": 60,
      "outputs": [
        {
          "output_type": "stream",
          "text": [
            "0\n"
          ],
          "name": "stdout"
        }
      ]
    },
    {
      "cell_type": "code",
      "metadata": {
        "id": "PTCSe6Mmt7pu",
        "colab_type": "code",
        "colab": {}
      },
      "source": [
        "# Operadores Relacionais\n",
        "# São os operadores de comparação\n",
        "# Maior, menor, menor igual, maior igual, diferente"
      ],
      "execution_count": 64,
      "outputs": []
    },
    {
      "cell_type": "code",
      "metadata": {
        "id": "rg8f4YOpva9C",
        "colab_type": "code",
        "colab": {
          "base_uri": "https://localhost:8080/",
          "height": 34
        },
        "outputId": "4a389413-7317-4f53-efa5-02dc73db80ea"
      },
      "source": [
        "# <> esse símbolo é conhecido como diamond (diamante)\n",
        "# ! A exclamação significa negação"
      ],
      "execution_count": 65,
      "outputs": [
        {
          "output_type": "stream",
          "text": [
            "False\n"
          ],
          "name": "stdout"
        }
      ]
    },
    {
      "cell_type": "code",
      "metadata": {
        "id": "HXIpOIYRv4Jh",
        "colab_type": "code",
        "colab": {
          "base_uri": "https://localhost:8080/",
          "height": 34
        },
        "outputId": "c1d92d28-c09e-477a-e6de-6f7e005f7dd3"
      },
      "source": [
        "# O símbolo \"=\" significa ATRIBUIÇÃO (ou recebe)\n",
        "# Enquanto para comparar uma igualdade deve-se usar o \"==\""
      ],
      "execution_count": 66,
      "outputs": [
        {
          "output_type": "stream",
          "text": [
            "False\n"
          ],
          "name": "stdout"
        }
      ]
    },
    {
      "cell_type": "code",
      "metadata": {
        "id": "RFpqGV78wSgp",
        "colab_type": "code",
        "colab": {
          "base_uri": "https://localhost:8080/",
          "height": 34
        },
        "outputId": "c9b6df25-75d1-40dd-e14f-09b7559f354d"
      },
      "source": [
        "# Em algumas ocasiões especiais, precisamos saber se a igualdade é, de fato,\n",
        "# igual tanto em valor quanto ao tipo de dado\n",
        "\n",
        "n1 = 10\n",
        "n2 = 10.0\n",
        "print (n1==n2)"
      ],
      "execution_count": 67,
      "outputs": [
        {
          "output_type": "stream",
          "text": [
            "True\n"
          ],
          "name": "stdout"
        }
      ]
    },
    {
      "cell_type": "code",
      "metadata": {
        "id": "xc458OOvyhHl",
        "colab_type": "code",
        "colab": {}
      },
      "source": [
        "# Operadores Lógicos\n",
        "# AND significa 'e'\n",
        "# OR significa 'or'\n",
        "# NOT significa 'não'"
      ],
      "execution_count": null,
      "outputs": []
    },
    {
      "cell_type": "code",
      "metadata": {
        "id": "DED04Tnuy1Y8",
        "colab_type": "code",
        "colab": {
          "base_uri": "https://localhost:8080/",
          "height": 34
        },
        "outputId": "7a3e9099-7b3b-4bbe-cff6-3e6e28ecd8a1"
      },
      "source": [
        "n1 = 10\n",
        "n2 = 10.0\n",
        "print (n1 == n2) and (type(n1) == (type(n2)) )"
      ],
      "execution_count": 74,
      "outputs": [
        {
          "output_type": "stream",
          "text": [
            "True\n"
          ],
          "name": "stdout"
        }
      ]
    },
    {
      "cell_type": "code",
      "metadata": {
        "id": "Z6EuxSCSz37I",
        "colab_type": "code",
        "colab": {}
      },
      "source": [
        "# Conversões\n",
        "# Absoluto: abs(x)\n",
        "# Converter para inteiro: int(x)\n",
        "# Conerter para real: float(x)\n",
        "# Converter para String: str(x)"
      ],
      "execution_count": null,
      "outputs": []
    },
    {
      "cell_type": "code",
      "metadata": {
        "id": "EO4UHaVO0cJL",
        "colab_type": "code",
        "colab": {
          "base_uri": "https://localhost:8080/",
          "height": 51
        },
        "outputId": "c3866f2a-37ee-44d2-baaf-e80060f9be0c"
      },
      "source": [
        "# Como usar o teclado do Python\n",
        "entrada = input (\"Digite um valor\")\n",
        "print (entrada)"
      ],
      "execution_count": 77,
      "outputs": [
        {
          "output_type": "stream",
          "text": [
            "Digite um valordelta\n",
            "delta\n"
          ],
          "name": "stdout"
        }
      ]
    },
    {
      "cell_type": "code",
      "metadata": {
        "id": "rZ82XOHn1K3I",
        "colab_type": "code",
        "colab": {
          "base_uri": "https://localhost:8080/",
          "height": 34
        },
        "outputId": "b6662ea9-48a4-4f2b-f5da-73bb2dd0199a"
      },
      "source": [
        "a = 1\n",
        "b = 12\n",
        "c = -13\n",
        "print (b*b - 4 * a * c)"
      ],
      "execution_count": 88,
      "outputs": [
        {
          "output_type": "stream",
          "text": [
            "196\n"
          ],
          "name": "stdout"
        }
      ]
    }
  ]
}